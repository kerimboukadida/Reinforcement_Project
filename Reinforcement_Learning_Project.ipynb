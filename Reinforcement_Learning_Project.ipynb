{
 "cells": [
  {
   "cell_type": "markdown",
   "metadata": {
    "id": "IVQf4E6pD3OW"
   },
   "source": [
    "#**Custom Gym Environment : Chopper pilot**"
   ]
  },
  {
   "cell_type": "markdown",
   "metadata": {
    "id": "nGPVBYRCCuEc"
   },
   "source": [
    "##**I) Import the necessary librairies**"
   ]
  },
  {
   "cell_type": "code",
   "execution_count": 1,
   "metadata": {
    "id": "uKUll0GHCWnJ"
   },
   "outputs": [],
   "source": [
    "import numpy as np \n",
    "import cv2 \n",
    "import matplotlib.pyplot as plt\n",
    "import PIL.Image as Image\n",
    "import gym\n",
    "import random\n",
    "\n",
    "from gym import Env, spaces\n",
    "import time\n",
    "font = cv2.FONT_HERSHEY_COMPLEX_SMALL "
   ]
  },
  {
   "cell_type": "markdown",
   "metadata": {
    "id": "71zCG_myEqUT"
   },
   "source": [
    "##**II) The custom Environment**"
   ]
  },
  {
   "cell_type": "markdown",
   "metadata": {
    "id": "m9em5-ZHFDe1"
   },
   "source": [
    "1.   **canvas:** This represents our observation image(the interface).\n",
    "2.   **x_min, y_min, x_max, y_max:** This defines the legitimate area of our screen where various elements of the screen, such as the Chopper and birds, can be placed. Other areas are reserved for displaying info such as fuel left, rewards, and padding.\n",
    "3.   **elements:** This stores the active elements stored in the screen at any given time (like chopper, bird, etc.)\n",
    "4.   **max_fuel:** Maximum fuel that the chopper can hold.\n",
    "\n",
    "implement the functions: \n",
    "\n",
    "\n",
    "*   **reset:** Resets the environment to its initial state and returns the initial observation.When we reset our environment, we need to reset all the state-based variables in our environment. These include things like fuel consumed, episodic return, and the elements present inside the environment.In our case, when we reset our environment, we have nothing but the Chopper in the initial state. We initialize our chopper randomly in an area in the top-left of our image.\n",
    "*   **step :** Executes a step in the environment by applying an action. Returns the new observation, reward, completion status, and other info.It contain the code to transition our environment from one state to the next given an action.We provide actions to the agent that will control what our chopper does. We basically have 5 actions, which are move right, left, down, up, or do nothing, denoted by 0, 1, 2, 3, and 4, respectively.  \n",
    "*  **draw_elements_on_canvas:** that basically places the icons of each of the elements present in the game at their respective positions in the observation image.\n",
    "*   **render:** would render the game in a pop-up window, while rgb_array returns it as a pixel array.\n",
    "*   **get_action_meanings():** will tell us what integer each action is mapped to for our reference.\n",
    "*   **has_collided:**helps us determine whether two Point objects (such as a Chopper/Bird, Chopper/Fuel Tank) have collided or not.\n"
   ]
  },
  {
   "cell_type": "code",
   "execution_count": 2,
   "metadata": {
    "id": "8nHi9bNBDeFR"
   },
   "outputs": [],
   "source": [
    "class ChopperScape(Env):\n",
    "    def __init__(self):\n",
    "        super(ChopperScape, self).__init__()\n",
    "        \n",
    "\n",
    "        \n",
    "        # Define a 2-D observation space\n",
    "        self.observation_shape = (600, 800, 3)\n",
    "        self.observation_space = spaces.Box(low = np.zeros(self.observation_shape), \n",
    "                                            high = np.ones(self.observation_shape),\n",
    "                                            dtype = np.float16)\n",
    "    \n",
    "        \n",
    "        # Define an action space ranging from 0 to 4 \n",
    "        # We Got 5 actions (right, left, down, up, or do nothing)\n",
    "        self.action_space = spaces.Discrete(6,)\n",
    "                        \n",
    "        # Create a canvas to render the environment images upon \n",
    "        self.canvas = np.ones(self.observation_shape) * 1\n",
    "        \n",
    "        # Define elements present inside the environment\n",
    "        self.elements = []\n",
    "        \n",
    "        # Maximum fuel chopper can take at once\n",
    "        self.max_fuel = 1000\n",
    "\n",
    "        # Define the rewards\n",
    "        self.rewards = 0\n",
    "        \n",
    "        # Permissible area of helicper to be \n",
    "        self.y_min = int (self.observation_shape[0] * 0.1)\n",
    "        self.x_min = 0\n",
    "        self.y_max = int (self.observation_shape[0] * 0.9)\n",
    "        self.x_max = self.observation_shape[1]\n",
    "\n",
    "    def draw_elements_on_canvas(self):\n",
    "        # Init the canvas \n",
    "        self.canvas = np.ones(self.observation_shape) * 1\n",
    "\n",
    "        # Draw the heliopter on canvas\n",
    "        for elem in self.elements:\n",
    "            elem_shape = elem.icon.shape\n",
    "            x,y = elem.x, elem.y\n",
    "            self.canvas[y : y + elem_shape[1], x:x + elem_shape[0]] = elem.icon\n",
    "\n",
    "        text = 'Fuel Left: {} | Rewards: {}'.format(self.fuel_left, self.rewards)\n",
    "\n",
    "        # Put the info on canvas \n",
    "        self.canvas = cv2.putText(self.canvas, text, (10,20), font,  \n",
    "               0.8, (0,0,0), 1, cv2.LINE_AA)    \n",
    "\n",
    "    def reset(self):\n",
    "        # Reset the fuel consumed\n",
    "        self.fuel_left = self.max_fuel\n",
    "\n",
    "        # Reset the reward\n",
    "        self.ep_return  = 0\n",
    "        self.rewards = 0\n",
    "\n",
    "        # Number of birds\n",
    "        self.bird_count = 0\n",
    "        self.fuel_count = 0\n",
    "\n",
    "        # Determine a place to intialise the chopper in\n",
    "        x = random.randrange(int(self.observation_shape[0] * 0.05), int(self.observation_shape[0] * 0.10))\n",
    "        y = random.randrange(int(self.observation_shape[1] * 0.15), int(self.observation_shape[1] * 0.20))\n",
    "    \n",
    "        # Intialise the chopper\n",
    "        self.chopper = Chopper(\"chopper\", self.x_max, self.x_min, self.y_max, self.y_min)\n",
    "        self.chopper.set_position(x,y)\n",
    "\n",
    "        # Intialise the elements \n",
    "        self.elements = [self.chopper]\n",
    "\n",
    "        # Reset the Canvas \n",
    "        self.canvas = np.ones(self.observation_shape) * 1\n",
    "\n",
    "        # Draw elements on the canvas\n",
    "        self.draw_elements_on_canvas()\n",
    "\n",
    "\n",
    "        # return the observation\n",
    "        return self.canvas  \n",
    "\n",
    "    def render(self, mode = \"human\"):\n",
    "        assert mode in [\"human\", \"rgb_array\"], \"Invalid mode, must be either \\\"human\\\" or \\\"rgb_array\\\"\"\n",
    "        if mode == \"human\":\n",
    "            cv2.imshow(\"RL Project\", self.canvas)\n",
    "            cv2.waitKey(10)\n",
    "        elif mode == \"rgb_array\":\n",
    "            return self.canvas\n",
    "    \n",
    "    def close(self):\n",
    "        cv2.destroyAllWindows()  \n",
    "\n",
    "    def get_action_meanings(self):\n",
    "        return {0: \"Right\", 1: \"Left\", 2: \"Down\", 3: \"Up\", 4: \"Do Nothing\"}  \n",
    "    \n",
    "    def has_collided(self, elem1, elem2):\n",
    "        x_col = False\n",
    "        y_col = False\n",
    "\n",
    "        elem1_x, elem1_y = elem1.get_position()\n",
    "        elem2_x, elem2_y = elem2.get_position()\n",
    "\n",
    "        if 2 * abs(elem1_x - elem2_x) <= (elem1.icon_w + elem2.icon_w):\n",
    "            x_col = True\n",
    "\n",
    "        if 2 * abs(elem1_y - elem2_y) <= (elem1.icon_h + elem2.icon_h):\n",
    "            y_col = True\n",
    "\n",
    "        if x_col and y_col:\n",
    "            return True\n",
    "        return False            \n",
    "    def step(self, action):\n",
    "        # Flag that marks the termination of an episode\n",
    "        done = False\n",
    "    \n",
    "        # Assert that it is a valid action \n",
    "        assert self.action_space.contains(action), \"Invalid Action\"\n",
    "\n",
    "        # Decrease the fuel counter \n",
    "        self.fuel_left -= 1 \n",
    "    \n",
    "        # Reward for executing a step.\n",
    "        self.rewards += 1      \n",
    "\n",
    "        # apply the action to the chopper\n",
    "        if action == 0:\n",
    "            self.chopper.move(0,5)\n",
    "        elif action == 1:\n",
    "            self.chopper.move(0,-5)\n",
    "        elif action == 2:\n",
    "            self.chopper.move(5,0)\n",
    "        elif action == 3:\n",
    "            self.chopper.move(-5,0)\n",
    "        elif action == 4:\n",
    "            self.chopper.move(0,0)\n",
    "\n",
    "        # Spawn a bird at the right edge with prob 0.01\n",
    "        if random.random() < 0.01:\n",
    "            # Spawn a bird\n",
    "            spawned_bird = Bird(\"bird_{}\".format(self.bird_count), self.x_max, self.x_min, self.y_max, self.y_min)\n",
    "            self.bird_count += 1\n",
    "\n",
    "            # Compute the x,y co-ordinates of the position from where the bird has to be spawned\n",
    "            # Horizontally, the position is on the right edge and vertically, the height is randomly \n",
    "            # sampled from the set of permissible values\n",
    "            bird_x = self.x_max \n",
    "            bird_y = random.randrange(self.y_min, self.y_max)\n",
    "            spawned_bird.set_position(self.x_max, bird_y)\n",
    "        \n",
    "            # Append the spawned bird to the elements currently present in Env. \n",
    "            self.elements.append(spawned_bird)    \n",
    "\n",
    "        # Spawn a fuel at the bottom edge with prob 0.024\n",
    "        if random.random() < 0.024:\n",
    "            # Spawn a fuel tank\n",
    "            spawned_fuel = Fuel(\"fuel_{}\".format(self.bird_count), self.x_max, self.x_min, self.y_max, self.y_min)\n",
    "            self.fuel_count += 1\n",
    "        \n",
    "            # Compute the x,y co-ordinates of the position from where the fuel tank has to be spawned\n",
    "            # Horizontally, the position is randomly chosen from the list of permissible values and \n",
    "            # vertically, the position is on the bottom edge\n",
    "            fuel_x = random.randrange(self.x_min, self.x_max)\n",
    "            fuel_y = self.y_max\n",
    "            spawned_fuel.set_position(fuel_x, fuel_y)\n",
    "        \n",
    "            # Append the spawned fuel tank to the elemetns currently present in the Env.\n",
    "            self.elements.append(spawned_fuel)   \n",
    "\n",
    "        # For elements in the Ev\n",
    "        for elem in self.elements:\n",
    "            if isinstance(elem, Bird):\n",
    "                # If the bird has reached the left edge, remove it from the Env\n",
    "                if elem.get_position()[0] <= self.x_min:\n",
    "                    self.elements.remove(elem)\n",
    "                else:\n",
    "                    # Move the bird left by 5 pts.\n",
    "                    elem.move(-5,0)\n",
    "            \n",
    "                # If the bird has collided.\n",
    "                if self.has_collided(self.chopper, elem):\n",
    "                    # remove the bird from the Env.\n",
    "                    #done = True\n",
    "                    self.rewards = self.rewards - 100\n",
    "                    self.elements.remove(elem)\n",
    "\n",
    "            if isinstance(elem, Fuel):\n",
    "                # If the fuel tank has reached the top, remove it from the Env\n",
    "                if elem.get_position()[1] <= self.y_min:\n",
    "                    self.elements.remove(elem)\n",
    "                else:\n",
    "                    # Move the Tank up by 5 pts.\n",
    "                    elem.move(0, -5)\n",
    "                \n",
    "                # If the fuel tank has collided with the chopper.\n",
    "                if self.has_collided(self.chopper, elem):\n",
    "                    # Remove the fuel tank from the env.\n",
    "                    self.elements.remove(elem)\n",
    "                \n",
    "                    # Fill the fuel tank of the chopper to full.\n",
    "                    self.fuel_left = self.max_fuel\n",
    "    \n",
    "        # Increment the episodic return\n",
    "        self.ep_return += 1\n",
    "\n",
    "        # Draw elements on the canvas\n",
    "        self.draw_elements_on_canvas()\n",
    "\n",
    "        # If out of fuel, end the episode.\n",
    "        if self.fuel_left == 0:\n",
    "            done = True\n",
    "        # conclude if the reward equal to 2000\n",
    "        if self.rewards == 2000:\n",
    "            done = True \n",
    "            \n",
    "        return self.canvas, self.rewards, done, []               "
   ]
  },
  {
   "cell_type": "markdown",
   "metadata": {
    "id": "L8a8_HdQGvPP"
   },
   "source": [
    "##**III) Elements of the Environment**\n",
    "\n",
    "Once we have determined the action space and the observation space, we need to finalize what would be the elements of our environment. We have three distinct elements: **the Chopper, Flying Birds, and Floating Fuel Stations**. We will be implementing all of these as separate classes that inherit from a common base class called **Point**."
   ]
  },
  {
   "cell_type": "markdown",
   "metadata": {
    "id": "5elCn_fsIxwA"
   },
   "source": [
    "###**Point Base Class**\n",
    "The Point class is used to define any arbitrary point on our observation image. We define this class with the following attributes:\n",
    "\n",
    "1.   **(x,y):** Position of the point on the image.\n",
    "2.   **(x_min, x_max, y_min, y_max):** Permissible coordinates for the point. If we try to set the position of the point outside these limits, the position values are clamped to these limits.\n",
    "3.    **name:** Name of the point.\n",
    "\n",
    "We define the following member functions for this class.\n",
    "\n",
    "*   get_position: Get the coordinates of the point.\n",
    "*   set_position: Set the coordinates of the point to a certain value.\n",
    "*   move: Move the points by certain value.\n"
   ]
  },
  {
   "cell_type": "code",
   "execution_count": 3,
   "metadata": {
    "id": "Vc2i90M1HhP9"
   },
   "outputs": [],
   "source": [
    "class Point(object):\n",
    "    def __init__(self, name, x_max, x_min, y_max, y_min):\n",
    "        self.x = 0\n",
    "        self.y = 0\n",
    "        self.x_min = x_min\n",
    "        self.x_max = x_max\n",
    "        self.y_min = y_min\n",
    "        self.y_max = y_max\n",
    "        self.name = name\n",
    "    \n",
    "    def set_position(self, x, y):\n",
    "        self.x = self.clamp(x, self.x_min, self.x_max - self.icon_w)\n",
    "        self.y = self.clamp(y, self.y_min, self.y_max - self.icon_h)\n",
    "    \n",
    "    def get_position(self):\n",
    "        return (self.x, self.y)\n",
    "    \n",
    "    def move(self, del_x, del_y):\n",
    "        self.x += del_x\n",
    "        self.y += del_y\n",
    "        \n",
    "        self.x = self.clamp(self.x, self.x_min, self.x_max - self.icon_w)\n",
    "        self.y = self.clamp(self.y, self.y_min, self.y_max - self.icon_h)\n",
    "\n",
    "    def clamp(self, n, minn, maxn):\n",
    "        return max(min(maxn, n), minn)"
   ]
  },
  {
   "cell_type": "markdown",
   "metadata": {
    "id": "QweOvv4eJ5Vj"
   },
   "source": [
    "we define the classes Chopper, Bird and Fuel. These classes are derived from the Point class, and introduce a set of new attributes: \n",
    "\n",
    "*   **icon:** Icon of the point that will display on the  observation image\n",
    "*   **(icon_w, icon_h):** Dimensions of the icon.(weight,height)\n",
    "\n"
   ]
  },
  {
   "cell_type": "code",
   "execution_count": 4,
   "metadata": {
    "id": "9UqCzdDLKPvD"
   },
   "outputs": [],
   "source": [
    "class Chopper(Point):\n",
    "    def __init__(self, name, x_max, x_min, y_max, y_min):\n",
    "        super(Chopper, self).__init__(name, x_max, x_min, y_max, y_min)\n",
    "        self.icon = cv2.imread(\"images/chopper.png\") / 255.0\n",
    "        self.icon_w = 64\n",
    "        self.icon_h = 64\n",
    "        self.icon = cv2.resize(self.icon, (self.icon_h, self.icon_w))\n",
    "\n",
    "    \n",
    "class Bird(Point):\n",
    "    def __init__(self, name, x_max, x_min, y_max, y_min):\n",
    "        super(Bird, self).__init__(name, x_max, x_min, y_max, y_min)\n",
    "        self.icon = cv2.imread(\"images/bird.png\") / 255.0\n",
    "        self.icon_w = 32\n",
    "        self.icon_h = 32\n",
    "        self.icon = cv2.resize(self.icon, (self.icon_h, self.icon_w))\n",
    "    \n",
    "class Fuel(Point):\n",
    "    def __init__(self, name, x_max, x_min, y_max, y_min):\n",
    "        super(Fuel, self).__init__(name, x_max, x_min, y_max, y_min)\n",
    "        self.icon = cv2.imread(\"images/fuel.png\") / 255.0\n",
    "        self.icon_w = 32\n",
    "        self.icon_h = 32\n",
    "        self.icon = cv2.resize(self.icon, (self.icon_h, self.icon_w))"
   ]
  },
  {
   "cell_type": "code",
   "execution_count": 5,
   "metadata": {
    "colab": {
     "base_uri": "https://localhost:8080/",
     "height": 647
    },
    "id": "XWDlRnaIReaA",
    "outputId": "868ee2e0-3e44-4421-f924-fa31855d5ba1"
   },
   "outputs": [
    {
     "name": "stderr",
     "output_type": "stream",
     "text": [
      "C:\\Users\\Karim BOUKADIDA\\anaconda3\\lib\\site-packages\\gym\\spaces\\box.py:73: UserWarning: \u001b[33mWARN: Box bound precision lowered by casting to float16\u001b[0m\n",
      "  logger.warn(\n"
     ]
    },
    {
     "data": {
      "text/plain": [
       "<matplotlib.image.AxesImage at 0x23e4aabc7f0>"
      ]
     },
     "execution_count": 5,
     "metadata": {},
     "output_type": "execute_result"
    },
    {
     "data": {
      "image/png": "[encoded data removed]",
      "text/plain": [
       "<Figure size 1440x720 with 1 Axes>"
      ]
     },
     "metadata": {
      "needs_background": "light"
     },
     "output_type": "display_data"
    }
   ],
   "source": [
    "env = ChopperScape()\n",
    "obs = env.reset()\n",
    "screen = env.render(mode = \"rgb_array\")\n",
    "\n",
    "plt.figure(figsize = (20,10))\n",
    "plt.imshow(screen)"
   ]
  },
  {
   "cell_type": "code",
   "execution_count": null,
   "metadata": {
    "colab": {
     "base_uri": "https://localhost:8080/",
     "height": 130
    },
    "id": "mM8vPJGVXn8x",
    "outputId": "19203bb8-e39e-455e-cbd5-a3626826adfa"
   },
   "outputs": [],
   "source": [
    "from IPython import display\n",
    "\n",
    "env = ChopperScape()\n",
    "obs = env.reset()\n",
    "while True:\n",
    "    # Take a random action\n",
    "    action = env.action_space.sample()\n",
    "    obs, reward, done, info = env.step(action)  \n",
    "    env.render()\n",
    "    if done == True:\n",
    "        break\n",
    "\n",
    "env.close()"
   ]
  }
 ],
 "metadata": {
  "colab": {
   "collapsed_sections": [],
   "name": "Reinforcement_Learning_Project.ipynb",
   "provenance": []
  },
  "kernelspec": {
   "display_name": "Python 3",
   "language": "python",
   "name": "python3"
  },
  "language_info": {
   "codemirror_mode": {
    "name": "ipython",
    "version": 3
   },
   "file_extension": ".py",
   "mimetype": "text/x-python",
   "name": "python",
   "nbconvert_exporter": "python",
   "pygments_lexer": "ipython3",
   "version": "3.8.8"
  }
 },
 "nbformat": 4,
 "nbformat_minor": 1
}
